import os
import re
import json
import logging
from datetime import datetime
from mutagen.mp3 import MP3
from mutagen.id3 import ID3, TIT2, TPE1, TALB, TDRC
from pipeline.utils.file_utils import safe_filename
import spotipy
from spotipy.oauth2 import SpotifyClientCredentials

# --- Setup ---
BASE_DIR = os.path.dirname(os.path.dirname(os.path.abspath(__file__)))
SETTINGS_PATH = os.path.join(BASE_DIR,
"config",
"settings.json")
DAILY_LOG_PATH = os.path.join(BASE_DIR,
"logs",
"daily_log.json")

# Load settings
with open(SETTINGS_PATH,
"r") as f:
    settings = json.load(f)

def validate_config(settings):
    required_keys = [
    "download_dir",
    "stems_dir"
]
    for key in required_keys:
        if key not in settings:
            raise KeyError(f"Missing required config key: {key}")

validate_config(settings)

MP3_INPUT_DIR = settings[
    "download_dir"
]
MP3_OUTPUT_DIR = settings[
    "stems_dir"
]
MP3_TRASH_DIR = os.path.join(BASE_DIR,
"data",
"mp3_trash")

def ensure_directory_exists(directory):
    if not os.path.exists(directory):
        os.makedirs(directory)

ensure_directory_exists(MP3_OUTPUT_DIR)
ensure_directory_exists(MP3_TRASH_DIR)

# Setup logging
log_path = os.path.join(BASE_DIR,
"logs",
"enrichment.log")
logging.basicConfig(level=logging.INFO, format="%(asctime)s [%(levelname)s] %(message)s", handlers=[logging.FileHandler(log_path)
])
logger = logging.getLogger(__name__)

# --- Functions ---
def enrich_mp3_metadata(mp3_path: str, dry_run: bool = False) -> tuple[str | None, str | None
]:
    if not os.path.exists(mp3_path):
        return None, None

    logger.info(f"🎧 Processing: {os.path.basename(mp3_path)}")
    try:
        if dry_run:
            title, artist = "Test Title",
"Test Artist"
            album, release_date, genre = "Test Album",
"2025",
"Test Genre"
        else:
            # Replace with actual logic to extract title and artist from filename or tags
            title, artist = "Example Title",
"Example Artist"
            spotify_metadata = get_spotify_metadata(title, artist)
            title = spotify_metadata.get("title",
"Unknown")
            artist = spotify_metadata.get("artist",
"Unknown")
            album = spotify_metadata.get("album",
"Unknown")
            release_date = spotify_metadata.get("release_date",
"Unknown")
            genre = spotify_metadata.get("genre",
"Unknown")

            discogs_metadata = get_discogs_metadata(artist, album)
            genre = discogs_metadata.get("genre", genre)

        new_name = safe_filename(f"{artist} - {title}")
        new_path = os.path.join(MP3_OUTPUT_DIR, f"{new_name}.mp3")
        json_path = new_path.replace(".mp3",
".json")

        if os.path.exists(new_path):
            logger.info(f"⏭️ Already exists: {new_name}")
            return new_path, json_path

        if not dry_run:
            audio = MP3(mp3_path, ID3=ID3)
            if not audio.tags:
                audio.add_tags()
            audio.tags.add(TIT2(encoding=3, text=title))
            audio.tags.add(TPE1(encoding=3, text=artist))
            if album:
                audio.tags.add(TALB(encoding=3, text=album))
            if release_date:
                audio.tags.add(TDRC(encoding=3, text=release_date))
            audio.save()

            save_metadata_to_json(json_path,
{
    "title": title,
    "artist": artist,
    "album": album,
    "release_date": release_date,
    "genre": genre
})

        return new_path, json_path

    except Exception as e:
        logger.warning(f"❌ Failed to process {mp3_path}: {e}")
        return None, None

def get_spotify_metadata(title: str, artist: str) -> dict:
    try:
        sp = spotipy.Spotify(auth_manager=SpotifyClientCredentials(
            client_id=settings[
    "api_keys"
][
    "spotify_client_id"
],
            client_secret=settings[
    "api_keys"
][
    "spotify_client_secret"
]
        ))
        query = f"track:{title} artist:{artist}"
        results = sp.search(q=query, type="track", limit=1)
        if results[
    "tracks"
][
    "items"
]:
            track = results[
    "tracks"
][
    "items"
][
    0
]
            return {
    "title": track[
        "name"
    ],
    "artist": track[
        "artists"
    ][
        0
    ][
        "name"
    ],
    "album": track[
        "album"
    ][
        "name"
    ],
    "release_date": track[
        "album"
    ][
        "release_date"
    ],
    "genre": "Unknown"  # Spotify doesn't provide genre directly
}
    except Exception as e:
        logger.error(f"Failed to fetch Spotify metadata: {e}")
    return {}

def get_discogs_metadata(artist: str, album: str) -> dict:
    try:
        return {
    "genre": "Rock"
}
    except Exception as e:
        logger.error(f"Failed to fetch Discogs metadata: {e}")
        return {}

def save_metadata_to_json(json_path: str, metadata: dict):
    with open(json_path,
"w") as f:
        json.dump(metadata, f, indent=2)

# --- Standalone run ---
if __name__ == "__main__":
    for filename in os.listdir(MP3_INPUT_DIR):
        if filename.endswith(".mp3"):
            new_path, json_path = enrich_mp3_metadata(os.path.join(MP3_INPUT_DIR, filename), dry_run=False)
